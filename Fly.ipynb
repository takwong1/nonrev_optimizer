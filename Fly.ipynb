{
 "cells": [
  {
   "cell_type": "markdown",
   "metadata": {},
   "source": [
    "## Get flight loads from SFO\n",
    "### Prereq:\n",
    "- Selenium driver\n",
    "- Chrome driver\n",
    "- .config.yaml with your Fly credentials\n",
    "\n",
    "        fly:\n",
    "          username: #######\n",
    "          pw: xxxxxx\n",
    "\n",
    "- csv file with list of origins\n",
    "- csv file with list of destinations"
   ]
  },
  {
   "cell_type": "code",
   "execution_count": 1,
   "metadata": {},
   "outputs": [],
   "source": [
    "## Need to install selenium driver and chrome driver\n",
    "from selenium import webdriver\n",
    "from selenium.webdriver.support.ui import WebDriverWait\n",
    "import pandas as pd\n",
    "import yaml\n",
    "import csv"
   ]
  },
  {
   "cell_type": "code",
   "execution_count": 2,
   "metadata": {},
   "outputs": [],
   "source": [
    "config = yaml.safe_load(open(\"./.config.yml\"))"
   ]
  },
  {
   "cell_type": "code",
   "execution_count": 3,
   "metadata": {},
   "outputs": [],
   "source": [
    "def fly_login(username, password):\n",
    "    # head to fly login page\n",
    "    driver = webdriver.Chrome(\"chromedriver\")\n",
    "    driver.get(\"https://fly.alaskasworld.com/\")\n",
    "    # find username/email field and send the username itself to the input field\n",
    "    driver.find_element_by_id(\"UserName\").send_keys(username)\n",
    "    # find password input field and insert password as well\n",
    "    driver.find_element_by_id(\"Password\").send_keys(password)\n",
    "    # click login button\n",
    "    driver.find_element_by_id(\"loginsubmit\").click()\n",
    "    return driver"
   ]
  },
  {
   "cell_type": "code",
   "execution_count": 4,
   "metadata": {},
   "outputs": [],
   "source": [
    "def connecting_flights(driver):\n",
    "    num_layover = len(driver.find_elements_by_xpath('//*[contains(@class,\"flight-divider\")]'))\n",
    "    return (num_layover > 0)"
   ]
  },
  {
   "cell_type": "code",
   "execution_count": 5,
   "metadata": {},
   "outputs": [],
   "source": [
    "def clean_flight_list(flight_list):\n",
    "    flight_list['orig'] = flight_list['orig_and_time'].str[:3]\n",
    "    flight_list['dep'] = pd.to_datetime(flight_list['orig_and_time'].str[4:], format='%I:%M %p').dt.strftime('%H:%M')\n",
    "    flight_list['dest'] = flight_list['dest_and_time'].str[:3]\n",
    "    flight_list['arr'] = pd.to_datetime(flight_list['dest_and_time'].str[4:], format='%I:%M %p').dt.strftime('%H:%M')\n",
    "    return flight_list.drop(columns=['orig_and_time','dest_and_time','show_details'])"
   ]
  },
  {
   "cell_type": "code",
   "execution_count": 6,
   "metadata": {},
   "outputs": [],
   "source": [
    "def get_flight_list(driver):\n",
    "    table = driver.find_elements_by_xpath('//*[contains(@class,\"flight-details\")]')\n",
    "    flight_list = pd.DataFrame(columns=['flight_num','orig_and_time','dest_and_time','config','flight_time','show_details'])\n",
    "    for t in table:\n",
    "        flight_list.loc[len(flight_list)] = t.text.split('\\n')\n",
    "    return clean_flight_list(flight_list)"
   ]
  },
  {
   "cell_type": "code",
   "execution_count": 7,
   "metadata": {},
   "outputs": [],
   "source": [
    "def clean_flight_seats(flight_seat_list):\n",
    "    flight_seats = pd.DataFrame(columns=['config_f','config_open_f','config_y','config_open_y','auth_f','auth_open_f','auth_y','auth_open_y', 'listed'])\n",
    "    for fs in flight_seat_list:\n",
    "        if fs[0] == 'Cnfg':\n",
    "            # Next flight - initiate a row\n",
    "            flight_seats.loc[len(flight_seats)] = None\n",
    "        if fs[0] in ['Cnfg','Auth','Cnfg Open','Auth Open']:\n",
    "            first_number = fs[0].lower().replace('cnfg','config').replace(' ','_')+'_f'\n",
    "            second_number = fs[0].lower().replace('cnfg','config').replace(' ','_')+'_y'\n",
    "            flight_seats.loc[len(flight_seats)-1][first_number] = fs[1]\n",
    "            flight_seats.loc[len(flight_seats)-1][second_number] = fs[2]\n",
    "        elif fs[0] == 'Listed':\n",
    "            flight_seats.loc[len(flight_seats)-1]['listed'] = fs[1]\n",
    "    return flight_seats"
   ]
  },
  {
   "cell_type": "code",
   "execution_count": 8,
   "metadata": {},
   "outputs": [],
   "source": [
    "def get_flight_seats(driver):\n",
    "    flight_seat_list = []\n",
    "    for table in driver.find_elements_by_xpath('//*[contains(@id,\"flightSeatDetails\")]//tr'):\n",
    "        data = [item.get_attribute(\"innerHTML\") for item in table.find_elements_by_xpath(\".//*[self::td or self::th]\")]\n",
    "        flight_seat_list.append(data)\n",
    "    return clean_flight_seats(flight_seat_list)"
   ]
  },
  {
   "cell_type": "code",
   "execution_count": 9,
   "metadata": {},
   "outputs": [],
   "source": [
    "def get_flight_details(orig, dest, flight_date):\n",
    "    url = \"https://fly.alaskasworld.com/search/{0}/{1}/{2}\".format(orig, dest, flight_date)\n",
    "    driver.get(url)\n",
    "    if connecting_flights(driver):\n",
    "        return None\n",
    "    else:\n",
    "        flight_list = get_flight_list(driver)\n",
    "        flight_seats = get_flight_seats(driver)\n",
    "        flight_data = pd.concat([flight_list,flight_seats], axis=1)\n",
    "        return flight_data"
   ]
  },
  {
   "cell_type": "code",
   "execution_count": 10,
   "metadata": {},
   "outputs": [],
   "source": [
    "def get_airports(filename):\n",
    "    with open(\"./\"+filename) as f:\n",
    "        reader = csv.reader(f)\n",
    "        return list(reader)"
   ]
  },
  {
   "cell_type": "markdown",
   "metadata": {},
   "source": [
    "## Pass in date and file names here\n",
    "\n",
    "Results will be in the output file when it's done running"
   ]
  },
  {
   "cell_type": "code",
   "execution_count": 11,
   "metadata": {},
   "outputs": [],
   "source": [
    "flight_date = '07Mar'\n",
    "## Note: One of these files should only have 1 airport to limit the # calls!!!\n",
    "dest_file = 'sfo_orig.csv'\n",
    "orig_file = 'sfo_dest.csv'\n",
    "output_file = 'flight_results_{0}.csv'.format(flight_date)\n",
    "\n",
    "\n",
    "username = config['fly']['username']\n",
    "pw = config['fly']['pw']\n",
    "driver = fly_login(username, pw)\n",
    "orig_list = get_airports(orig_file)\n",
    "dest_list = get_airports(dest_file)\n",
    "final_results = pd.DataFrame()\n",
    "for o in orig_list:\n",
    "    orig = o[0]\n",
    "    for d in dest_list:\n",
    "        dest = d[0]\n",
    "        results = get_flight_details(orig,dest,flight_date)\n",
    "        #print(results)\n",
    "        final_results = final_results.append(results)\n",
    "final_results.to_csv(output_file)"
   ]
  },
  {
   "cell_type": "code",
   "execution_count": null,
   "metadata": {},
   "outputs": [],
   "source": []
  }
 ],
 "metadata": {
  "kernelspec": {
   "display_name": "Python 3",
   "language": "python",
   "name": "python3"
  },
  "language_info": {
   "codemirror_mode": {
    "name": "ipython",
    "version": 3
   },
   "file_extension": ".py",
   "mimetype": "text/x-python",
   "name": "python",
   "nbconvert_exporter": "python",
   "pygments_lexer": "ipython3",
   "version": "3.6.12"
  }
 },
 "nbformat": 4,
 "nbformat_minor": 4
}
